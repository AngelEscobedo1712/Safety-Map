{
 "cells": [
  {
   "cell_type": "markdown",
   "id": "0ccc6a57",
   "metadata": {},
   "source": [
    "# EDA of data\n"
   ]
  },
  {
   "cell_type": "code",
   "execution_count": 30,
   "id": "57f32380",
   "metadata": {},
   "outputs": [],
   "source": [
    "import numpy as np \n",
    "import pandas as pd\n",
    "import seaborn as sns\n",
    "import matplotlib.pyplot as plt"
   ]
  },
  {
   "cell_type": "markdown",
   "id": "38d1b589",
   "metadata": {},
   "source": [
    "## Sort out columns and rows that are not neccesary"
   ]
  },
  {
   "cell_type": "code",
   "execution_count": 86,
   "id": "67178847",
   "metadata": {},
   "outputs": [],
   "source": [
    "url = \"https://archivo.datos.cdmx.gob.mx/fiscalia-general-de-justicia/victimas-en-carpetas-de-investigacion-fgj/da_victimas_completa_marzo_2023.csv\"\n",
    "data_cdmx = pd.read_csv(url)"
   ]
  },
  {
   "cell_type": "code",
   "execution_count": 100,
   "id": "0a8cf85e",
   "metadata": {
    "scrolled": true
   },
   "outputs": [
    {
     "data": {
      "text/html": [
       "<div>\n",
       "<style scoped>\n",
       "    .dataframe tbody tr th:only-of-type {\n",
       "        vertical-align: middle;\n",
       "    }\n",
       "\n",
       "    .dataframe tbody tr th {\n",
       "        vertical-align: top;\n",
       "    }\n",
       "\n",
       "    .dataframe thead th {\n",
       "        text-align: right;\n",
       "    }\n",
       "</style>\n",
       "<table border=\"1\" class=\"dataframe\">\n",
       "  <thead>\n",
       "    <tr style=\"text-align: right;\">\n",
       "      <th></th>\n",
       "      <th>idCarpeta</th>\n",
       "      <th>Año_inicio</th>\n",
       "      <th>Mes_inicio</th>\n",
       "      <th>FechaInicio</th>\n",
       "      <th>Delito</th>\n",
       "      <th>Categoria</th>\n",
       "      <th>Sexo</th>\n",
       "      <th>Edad</th>\n",
       "      <th>TipoPersona</th>\n",
       "      <th>CalidadJuridica</th>\n",
       "      <th>...</th>\n",
       "      <th>Mes_hecho</th>\n",
       "      <th>FechaHecho</th>\n",
       "      <th>HoraHecho</th>\n",
       "      <th>HoraInicio</th>\n",
       "      <th>alcaldia_hechos</th>\n",
       "      <th>municipio_hechos</th>\n",
       "      <th>colonia_datos</th>\n",
       "      <th>fgj_colonia_registro</th>\n",
       "      <th>latitud</th>\n",
       "      <th>longitud</th>\n",
       "    </tr>\n",
       "  </thead>\n",
       "  <tbody>\n",
       "    <tr>\n",
       "      <th>0</th>\n",
       "      <td>8324429.0</td>\n",
       "      <td>2019</td>\n",
       "      <td>Enero</td>\n",
       "      <td>2019-01-04</td>\n",
       "      <td>FRAUDE</td>\n",
       "      <td>DELITO DE BAJO IMPACTO</td>\n",
       "      <td>Masculino</td>\n",
       "      <td>62.0</td>\n",
       "      <td>FISICA</td>\n",
       "      <td>OFENDIDO</td>\n",
       "      <td>...</td>\n",
       "      <td>Agosto</td>\n",
       "      <td>2018-08-29</td>\n",
       "      <td>12:00:00</td>\n",
       "      <td>12:19:00</td>\n",
       "      <td>ALVARO OBREGON</td>\n",
       "      <td>NaN</td>\n",
       "      <td>GUADALUPE INN</td>\n",
       "      <td>GUADALUPE INN</td>\n",
       "      <td>19.36125</td>\n",
       "      <td>-99.18314</td>\n",
       "    </tr>\n",
       "    <tr>\n",
       "      <th>1</th>\n",
       "      <td>8324430.0</td>\n",
       "      <td>2019</td>\n",
       "      <td>Enero</td>\n",
       "      <td>2019-01-04</td>\n",
       "      <td>PRODUCCIÓN, IMPRESIÓN, ENAJENACIÓN, DISTRIBUCI...</td>\n",
       "      <td>DELITO DE BAJO IMPACTO</td>\n",
       "      <td>Femenino</td>\n",
       "      <td>38.0</td>\n",
       "      <td>FISICA</td>\n",
       "      <td>VICTIMA Y DENUNCIANTE</td>\n",
       "      <td>...</td>\n",
       "      <td>Diciembre</td>\n",
       "      <td>2018-12-15</td>\n",
       "      <td>15:00:00</td>\n",
       "      <td>12:20:00</td>\n",
       "      <td>AZCAPOTZALCO</td>\n",
       "      <td>NaN</td>\n",
       "      <td>VICTORIA DE LAS DEMOCRACIAS</td>\n",
       "      <td>VICTORIA DE LAS DEMOCRACIAS</td>\n",
       "      <td>19.47181</td>\n",
       "      <td>-99.16458</td>\n",
       "    </tr>\n",
       "    <tr>\n",
       "      <th>2</th>\n",
       "      <td>8324431.0</td>\n",
       "      <td>2019</td>\n",
       "      <td>Enero</td>\n",
       "      <td>2019-01-04</td>\n",
       "      <td>ROBO A TRANSEUNTE SALIENDO DEL BANCO CON VIOLE...</td>\n",
       "      <td>ROBO A CUENTAHABIENTE SALIENDO DEL CAJERO CON ...</td>\n",
       "      <td>Masculino</td>\n",
       "      <td>42.0</td>\n",
       "      <td>FISICA</td>\n",
       "      <td>VICTIMA Y DENUNCIANTE</td>\n",
       "      <td>...</td>\n",
       "      <td>Diciembre</td>\n",
       "      <td>2018-12-22</td>\n",
       "      <td>15:30:00</td>\n",
       "      <td>12:23:00</td>\n",
       "      <td>COYOACAN</td>\n",
       "      <td>NaN</td>\n",
       "      <td>COPILCO EL BAJO</td>\n",
       "      <td>COPILCO UNIVERSIDAD ISSSTE</td>\n",
       "      <td>19.33797</td>\n",
       "      <td>-99.18611</td>\n",
       "    </tr>\n",
       "    <tr>\n",
       "      <th>3</th>\n",
       "      <td>8324435.0</td>\n",
       "      <td>2019</td>\n",
       "      <td>Enero</td>\n",
       "      <td>2019-01-04</td>\n",
       "      <td>ROBO DE VEHICULO DE SERVICIO PARTICULAR SIN VI...</td>\n",
       "      <td>ROBO DE VEHÍCULO CON Y SIN VIOLENCIA</td>\n",
       "      <td>Masculino</td>\n",
       "      <td>35.0</td>\n",
       "      <td>FISICA</td>\n",
       "      <td>VICTIMA Y DENUNCIANTE</td>\n",
       "      <td>...</td>\n",
       "      <td>Enero</td>\n",
       "      <td>2019-01-04</td>\n",
       "      <td>06:00:00</td>\n",
       "      <td>12:27:00</td>\n",
       "      <td>IZTACALCO</td>\n",
       "      <td>NaN</td>\n",
       "      <td>PANTITLAN V</td>\n",
       "      <td>AGRÍCOLA PANTITLAN</td>\n",
       "      <td>19.40327</td>\n",
       "      <td>-99.05983</td>\n",
       "    </tr>\n",
       "    <tr>\n",
       "      <th>4</th>\n",
       "      <td>8324438.0</td>\n",
       "      <td>2019</td>\n",
       "      <td>Enero</td>\n",
       "      <td>2019-01-04</td>\n",
       "      <td>ROBO DE MOTOCICLETA SIN VIOLENCIA</td>\n",
       "      <td>ROBO DE VEHÍCULO CON Y SIN VIOLENCIA</td>\n",
       "      <td>Masculino</td>\n",
       "      <td>NaN</td>\n",
       "      <td>FISICA</td>\n",
       "      <td>VICTIMA</td>\n",
       "      <td>...</td>\n",
       "      <td>Enero</td>\n",
       "      <td>2019-01-03</td>\n",
       "      <td>20:00:00</td>\n",
       "      <td>12:35:00</td>\n",
       "      <td>IZTAPALAPA</td>\n",
       "      <td>NaN</td>\n",
       "      <td>LAS AMERICAS (U HAB)</td>\n",
       "      <td>PROGRESISTA</td>\n",
       "      <td>19.35480</td>\n",
       "      <td>-99.06324</td>\n",
       "    </tr>\n",
       "  </tbody>\n",
       "</table>\n",
       "<p>5 rows × 22 columns</p>\n",
       "</div>"
      ],
      "text/plain": [
       "   idCarpeta  Año_inicio Mes_inicio FechaInicio  \\\n",
       "0  8324429.0        2019      Enero  2019-01-04   \n",
       "1  8324430.0        2019      Enero  2019-01-04   \n",
       "2  8324431.0        2019      Enero  2019-01-04   \n",
       "3  8324435.0        2019      Enero  2019-01-04   \n",
       "4  8324438.0        2019      Enero  2019-01-04   \n",
       "\n",
       "                                              Delito  \\\n",
       "0                                             FRAUDE   \n",
       "1  PRODUCCIÓN, IMPRESIÓN, ENAJENACIÓN, DISTRIBUCI...   \n",
       "2  ROBO A TRANSEUNTE SALIENDO DEL BANCO CON VIOLE...   \n",
       "3  ROBO DE VEHICULO DE SERVICIO PARTICULAR SIN VI...   \n",
       "4                  ROBO DE MOTOCICLETA SIN VIOLENCIA   \n",
       "\n",
       "                                           Categoria       Sexo  Edad  \\\n",
       "0                             DELITO DE BAJO IMPACTO  Masculino  62.0   \n",
       "1                             DELITO DE BAJO IMPACTO   Femenino  38.0   \n",
       "2  ROBO A CUENTAHABIENTE SALIENDO DEL CAJERO CON ...  Masculino  42.0   \n",
       "3               ROBO DE VEHÍCULO CON Y SIN VIOLENCIA  Masculino  35.0   \n",
       "4               ROBO DE VEHÍCULO CON Y SIN VIOLENCIA  Masculino   NaN   \n",
       "\n",
       "  TipoPersona        CalidadJuridica  ...  Mes_hecho  FechaHecho HoraHecho  \\\n",
       "0      FISICA               OFENDIDO  ...     Agosto  2018-08-29  12:00:00   \n",
       "1      FISICA  VICTIMA Y DENUNCIANTE  ...  Diciembre  2018-12-15  15:00:00   \n",
       "2      FISICA  VICTIMA Y DENUNCIANTE  ...  Diciembre  2018-12-22  15:30:00   \n",
       "3      FISICA  VICTIMA Y DENUNCIANTE  ...      Enero  2019-01-04  06:00:00   \n",
       "4      FISICA                VICTIMA  ...      Enero  2019-01-03  20:00:00   \n",
       "\n",
       "  HoraInicio alcaldia_hechos municipio_hechos                colonia_datos  \\\n",
       "0   12:19:00  ALVARO OBREGON              NaN                GUADALUPE INN   \n",
       "1   12:20:00    AZCAPOTZALCO              NaN  VICTORIA DE LAS DEMOCRACIAS   \n",
       "2   12:23:00        COYOACAN              NaN              COPILCO EL BAJO   \n",
       "3   12:27:00       IZTACALCO              NaN                  PANTITLAN V   \n",
       "4   12:35:00      IZTAPALAPA              NaN         LAS AMERICAS (U HAB)   \n",
       "\n",
       "          fgj_colonia_registro   latitud  longitud  \n",
       "0                GUADALUPE INN  19.36125 -99.18314  \n",
       "1  VICTORIA DE LAS DEMOCRACIAS  19.47181 -99.16458  \n",
       "2   COPILCO UNIVERSIDAD ISSSTE  19.33797 -99.18611  \n",
       "3           AGRÍCOLA PANTITLAN  19.40327 -99.05983  \n",
       "4                  PROGRESISTA  19.35480 -99.06324  \n",
       "\n",
       "[5 rows x 22 columns]"
      ]
     },
     "execution_count": 100,
     "metadata": {},
     "output_type": "execute_result"
    }
   ],
   "source": [
    "data_cdmx.head()"
   ]
  },
  {
   "cell_type": "code",
   "execution_count": 101,
   "id": "72d2d182",
   "metadata": {},
   "outputs": [
    {
     "data": {
      "text/plain": [
       "1038430"
      ]
     },
     "execution_count": 101,
     "metadata": {},
     "output_type": "execute_result"
    }
   ],
   "source": [
    "len(data_cdmx)"
   ]
  },
  {
   "cell_type": "code",
   "execution_count": 113,
   "id": "cb64b7aa",
   "metadata": {},
   "outputs": [
    {
     "data": {
      "text/plain": [
       "(1028246, 22)"
      ]
     },
     "execution_count": 113,
     "metadata": {},
     "output_type": "execute_result"
    }
   ],
   "source": [
    "#sort out delicts that happened outside of cdmx\n",
    "boolean_mask = data_cdmx['municipio_hechos'].isnull()\n",
    "data = data_cdmx[boolean_mask].reset_index(drop=True)\n",
    "\n",
    "data.shape"
   ]
  },
  {
   "cell_type": "code",
   "execution_count": 114,
   "id": "c767f4a6",
   "metadata": {},
   "outputs": [],
   "source": [
    "#sort out crimes that were not commited against persons but companies\n",
    "boolean_mask = data['TipoPersona'] == 'FISICA'\n",
    "data = data[boolean_mask].reset_index(drop=True)"
   ]
  },
  {
   "cell_type": "code",
   "execution_count": 115,
   "id": "2c97018c",
   "metadata": {},
   "outputs": [
    {
     "data": {
      "text/plain": [
       "(819283, 22)"
      ]
     },
     "execution_count": 115,
     "metadata": {},
     "output_type": "execute_result"
    }
   ],
   "source": [
    "data.shape"
   ]
  },
  {
   "cell_type": "code",
   "execution_count": 122,
   "id": "2f4decb4",
   "metadata": {
    "scrolled": true
   },
   "outputs": [],
   "source": [
    "#Which columns can we ommit?\n",
    "\n",
    "\n",
    "columns_to_drop = ['idCarpeta', 'Año_inicio', 'Mes_inicio', 'FechaInicio', \n",
    "                   'CalidadJuridica', 'Mes_hecho',  'HoraInicio', 'alcaldia_hechos',\n",
    "                  'fgj_colonia_registro', 'municipio_hechos']\n",
    "\n",
    "data = data.drop(columns_to_drop, axis=1)"
   ]
  },
  {
   "cell_type": "code",
   "execution_count": 118,
   "id": "7e0abeac",
   "metadata": {
    "scrolled": true
   },
   "outputs": [
    {
     "data": {
      "text/plain": [
       "FISICA    819283\n",
       "Name: TipoPersona, dtype: int64"
      ]
     },
     "execution_count": 118,
     "metadata": {},
     "output_type": "execute_result"
    }
   ],
   "source": [
    "data.TipoPersona.value_counts()"
   ]
  },
  {
   "cell_type": "code",
   "execution_count": 121,
   "id": "ff8191a4",
   "metadata": {},
   "outputs": [
    {
     "data": {
      "text/plain": [
       "(819283, 12)"
      ]
     },
     "execution_count": 121,
     "metadata": {},
     "output_type": "execute_result"
    }
   ],
   "source": [
    "data.shape"
   ]
  },
  {
   "cell_type": "markdown",
   "id": "53a299ac",
   "metadata": {},
   "source": [
    "## Make delict categrories"
   ]
  },
  {
   "cell_type": "code",
   "execution_count": null,
   "id": "c0e189f9",
   "metadata": {},
   "outputs": [],
   "source": [
    "data"
   ]
  }
 ],
 "metadata": {
  "kernelspec": {
   "display_name": "Python 3 (ipykernel)",
   "language": "python",
   "name": "python3"
  },
  "language_info": {
   "codemirror_mode": {
    "name": "ipython",
    "version": 3
   },
   "file_extension": ".py",
   "mimetype": "text/x-python",
   "name": "python",
   "nbconvert_exporter": "python",
   "pygments_lexer": "ipython3",
   "version": "3.10.6"
  },
  "toc": {
   "base_numbering": 1,
   "nav_menu": {},
   "number_sections": true,
   "sideBar": true,
   "skip_h1_title": false,
   "title_cell": "Table of Contents",
   "title_sidebar": "Contents",
   "toc_cell": false,
   "toc_position": {},
   "toc_section_display": true,
   "toc_window_display": false
  }
 },
 "nbformat": 4,
 "nbformat_minor": 5
}
