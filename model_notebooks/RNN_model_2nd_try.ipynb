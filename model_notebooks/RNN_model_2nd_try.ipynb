{
 "cells": [
  {
   "cell_type": "code",
   "execution_count": 100,
   "id": "264760e8-64b9-4b5b-9d6a-d356dfa09efb",
   "metadata": {},
   "outputs": [],
   "source": [
    "import pandas as pd\n",
    "import numpy as np\n",
    "import matplotlib.pyplot as plt\n",
    "pd.set_option('display.max_columns', 500)\n",
    "\n",
    "import pmdarima as pm\n"
   ]
  },
  {
   "cell_type": "code",
   "execution_count": 105,
   "id": "03611a8d-4bd3-4dd2-9d8f-917440c8459b",
   "metadata": {},
   "outputs": [],
   "source": [
    "url = \"https://storage.googleapis.com/safetymap/preprocessed_data2.csv\"\n",
    "df = pd.read_csv(url)\n",
    "df.drop(columns = \"colonia_id\", inplace = True)"
   ]
  },
  {
   "cell_type": "code",
   "execution_count": 106,
   "id": "490f6e9c-65be-44a3-a444-136c658c145c",
   "metadata": {},
   "outputs": [
    {
     "data": {
      "text/html": [
       "<div>\n",
       "<style scoped>\n",
       "    .dataframe tbody tr th:only-of-type {\n",
       "        vertical-align: middle;\n",
       "    }\n",
       "\n",
       "    .dataframe tbody tr th {\n",
       "        vertical-align: top;\n",
       "    }\n",
       "\n",
       "    .dataframe thead th {\n",
       "        text-align: right;\n",
       "    }\n",
       "</style>\n",
       "<table border=\"1\" class=\"dataframe\">\n",
       "  <thead>\n",
       "    <tr style=\"text-align: right;\">\n",
       "      <th></th>\n",
       "      <th>alcaldia_colonia</th>\n",
       "      <th>año_mes_hecho</th>\n",
       "      <th>burglary</th>\n",
       "      <th>danger of well-being</th>\n",
       "      <th>domestic violence</th>\n",
       "      <th>fraud</th>\n",
       "      <th>homicide</th>\n",
       "      <th>property damage</th>\n",
       "      <th>robbery with violence</th>\n",
       "      <th>robbery without violence</th>\n",
       "      <th>sexual crime</th>\n",
       "      <th>threats</th>\n",
       "    </tr>\n",
       "  </thead>\n",
       "  <tbody>\n",
       "    <tr>\n",
       "      <th>0</th>\n",
       "      <td>ALVARO OBREGON || 16 DE SEPTIEMBRE</td>\n",
       "      <td>2019-01-01</td>\n",
       "      <td>0</td>\n",
       "      <td>0</td>\n",
       "      <td>0</td>\n",
       "      <td>0</td>\n",
       "      <td>0</td>\n",
       "      <td>0</td>\n",
       "      <td>0</td>\n",
       "      <td>0</td>\n",
       "      <td>0</td>\n",
       "      <td>0</td>\n",
       "    </tr>\n",
       "    <tr>\n",
       "      <th>1</th>\n",
       "      <td>ALVARO OBREGON || 16 DE SEPTIEMBRE</td>\n",
       "      <td>2019-02-01</td>\n",
       "      <td>0</td>\n",
       "      <td>0</td>\n",
       "      <td>0</td>\n",
       "      <td>0</td>\n",
       "      <td>0</td>\n",
       "      <td>0</td>\n",
       "      <td>0</td>\n",
       "      <td>0</td>\n",
       "      <td>0</td>\n",
       "      <td>0</td>\n",
       "    </tr>\n",
       "    <tr>\n",
       "      <th>2</th>\n",
       "      <td>ALVARO OBREGON || 16 DE SEPTIEMBRE</td>\n",
       "      <td>2019-03-01</td>\n",
       "      <td>0</td>\n",
       "      <td>0</td>\n",
       "      <td>0</td>\n",
       "      <td>0</td>\n",
       "      <td>0</td>\n",
       "      <td>0</td>\n",
       "      <td>0</td>\n",
       "      <td>0</td>\n",
       "      <td>0</td>\n",
       "      <td>0</td>\n",
       "    </tr>\n",
       "    <tr>\n",
       "      <th>3</th>\n",
       "      <td>ALVARO OBREGON || 16 DE SEPTIEMBRE</td>\n",
       "      <td>2019-04-01</td>\n",
       "      <td>0</td>\n",
       "      <td>0</td>\n",
       "      <td>0</td>\n",
       "      <td>0</td>\n",
       "      <td>0</td>\n",
       "      <td>0</td>\n",
       "      <td>0</td>\n",
       "      <td>0</td>\n",
       "      <td>0</td>\n",
       "      <td>0</td>\n",
       "    </tr>\n",
       "    <tr>\n",
       "      <th>4</th>\n",
       "      <td>ALVARO OBREGON || 16 DE SEPTIEMBRE</td>\n",
       "      <td>2019-05-01</td>\n",
       "      <td>0</td>\n",
       "      <td>0</td>\n",
       "      <td>0</td>\n",
       "      <td>0</td>\n",
       "      <td>0</td>\n",
       "      <td>0</td>\n",
       "      <td>0</td>\n",
       "      <td>0</td>\n",
       "      <td>0</td>\n",
       "      <td>0</td>\n",
       "    </tr>\n",
       "    <tr>\n",
       "      <th>...</th>\n",
       "      <td>...</td>\n",
       "      <td>...</td>\n",
       "      <td>...</td>\n",
       "      <td>...</td>\n",
       "      <td>...</td>\n",
       "      <td>...</td>\n",
       "      <td>...</td>\n",
       "      <td>...</td>\n",
       "      <td>...</td>\n",
       "      <td>...</td>\n",
       "      <td>...</td>\n",
       "      <td>...</td>\n",
       "    </tr>\n",
       "    <tr>\n",
       "      <th>104086</th>\n",
       "      <td>XOCHIMILCO || XICALHUACAN</td>\n",
       "      <td>2022-11-01</td>\n",
       "      <td>1</td>\n",
       "      <td>0</td>\n",
       "      <td>0</td>\n",
       "      <td>0</td>\n",
       "      <td>0</td>\n",
       "      <td>0</td>\n",
       "      <td>0</td>\n",
       "      <td>0</td>\n",
       "      <td>0</td>\n",
       "      <td>1</td>\n",
       "    </tr>\n",
       "    <tr>\n",
       "      <th>104087</th>\n",
       "      <td>XOCHIMILCO || XICALHUACAN</td>\n",
       "      <td>2022-12-01</td>\n",
       "      <td>0</td>\n",
       "      <td>0</td>\n",
       "      <td>0</td>\n",
       "      <td>0</td>\n",
       "      <td>0</td>\n",
       "      <td>0</td>\n",
       "      <td>0</td>\n",
       "      <td>1</td>\n",
       "      <td>0</td>\n",
       "      <td>1</td>\n",
       "    </tr>\n",
       "    <tr>\n",
       "      <th>104088</th>\n",
       "      <td>XOCHIMILCO || XICALHUACAN</td>\n",
       "      <td>2023-01-01</td>\n",
       "      <td>0</td>\n",
       "      <td>1</td>\n",
       "      <td>1</td>\n",
       "      <td>0</td>\n",
       "      <td>0</td>\n",
       "      <td>1</td>\n",
       "      <td>0</td>\n",
       "      <td>0</td>\n",
       "      <td>0</td>\n",
       "      <td>1</td>\n",
       "    </tr>\n",
       "    <tr>\n",
       "      <th>104089</th>\n",
       "      <td>XOCHIMILCO || XICALHUACAN</td>\n",
       "      <td>2023-02-01</td>\n",
       "      <td>0</td>\n",
       "      <td>0</td>\n",
       "      <td>0</td>\n",
       "      <td>0</td>\n",
       "      <td>0</td>\n",
       "      <td>0</td>\n",
       "      <td>0</td>\n",
       "      <td>0</td>\n",
       "      <td>0</td>\n",
       "      <td>0</td>\n",
       "    </tr>\n",
       "    <tr>\n",
       "      <th>104090</th>\n",
       "      <td>XOCHIMILCO || XICALHUACAN</td>\n",
       "      <td>2023-03-01</td>\n",
       "      <td>0</td>\n",
       "      <td>1</td>\n",
       "      <td>4</td>\n",
       "      <td>0</td>\n",
       "      <td>0</td>\n",
       "      <td>0</td>\n",
       "      <td>0</td>\n",
       "      <td>0</td>\n",
       "      <td>1</td>\n",
       "      <td>0</td>\n",
       "    </tr>\n",
       "  </tbody>\n",
       "</table>\n",
       "<p>104091 rows × 12 columns</p>\n",
       "</div>"
      ],
      "text/plain": [
       "                          alcaldia_colonia año_mes_hecho  burglary  \\\n",
       "0       ALVARO OBREGON || 16 DE SEPTIEMBRE    2019-01-01         0   \n",
       "1       ALVARO OBREGON || 16 DE SEPTIEMBRE    2019-02-01         0   \n",
       "2       ALVARO OBREGON || 16 DE SEPTIEMBRE    2019-03-01         0   \n",
       "3       ALVARO OBREGON || 16 DE SEPTIEMBRE    2019-04-01         0   \n",
       "4       ALVARO OBREGON || 16 DE SEPTIEMBRE    2019-05-01         0   \n",
       "...                                    ...           ...       ...   \n",
       "104086           XOCHIMILCO || XICALHUACAN    2022-11-01         1   \n",
       "104087           XOCHIMILCO || XICALHUACAN    2022-12-01         0   \n",
       "104088           XOCHIMILCO || XICALHUACAN    2023-01-01         0   \n",
       "104089           XOCHIMILCO || XICALHUACAN    2023-02-01         0   \n",
       "104090           XOCHIMILCO || XICALHUACAN    2023-03-01         0   \n",
       "\n",
       "        danger of well-being  domestic violence  fraud  homicide  \\\n",
       "0                          0                  0      0         0   \n",
       "1                          0                  0      0         0   \n",
       "2                          0                  0      0         0   \n",
       "3                          0                  0      0         0   \n",
       "4                          0                  0      0         0   \n",
       "...                      ...                ...    ...       ...   \n",
       "104086                     0                  0      0         0   \n",
       "104087                     0                  0      0         0   \n",
       "104088                     1                  1      0         0   \n",
       "104089                     0                  0      0         0   \n",
       "104090                     1                  4      0         0   \n",
       "\n",
       "        property damage  robbery with violence  robbery without violence  \\\n",
       "0                     0                      0                         0   \n",
       "1                     0                      0                         0   \n",
       "2                     0                      0                         0   \n",
       "3                     0                      0                         0   \n",
       "4                     0                      0                         0   \n",
       "...                 ...                    ...                       ...   \n",
       "104086                0                      0                         0   \n",
       "104087                0                      0                         1   \n",
       "104088                1                      0                         0   \n",
       "104089                0                      0                         0   \n",
       "104090                0                      0                         0   \n",
       "\n",
       "        sexual crime  threats  \n",
       "0                  0        0  \n",
       "1                  0        0  \n",
       "2                  0        0  \n",
       "3                  0        0  \n",
       "4                  0        0  \n",
       "...              ...      ...  \n",
       "104086             0        1  \n",
       "104087             0        1  \n",
       "104088             0        1  \n",
       "104089             0        0  \n",
       "104090             1        0  \n",
       "\n",
       "[104091 rows x 12 columns]"
      ]
     },
     "execution_count": 106,
     "metadata": {},
     "output_type": "execute_result"
    }
   ],
   "source": [
    "df"
   ]
  },
  {
   "cell_type": "code",
   "execution_count": 107,
   "id": "3b3dce47-eaee-4c49-8af2-92556400a122",
   "metadata": {},
   "outputs": [],
   "source": [
    "pre_data = df.set_index([\"año_mes_hecho\",\"alcaldia_colonia\"]).unstack(\"alcaldia_colonia\")"
   ]
  },
  {
   "cell_type": "markdown",
   "id": "20e4e97a-5206-4b62-a16a-f17762effc90",
   "metadata": {},
   "source": [
    "## train test split"
   ]
  },
  {
   "cell_type": "code",
   "execution_count": 108,
   "id": "edcf29e0-e318-4e91-86ef-84f398904f9f",
   "metadata": {},
   "outputs": [
    {
     "data": {
      "text/plain": [
       "año_mes_hecho\n",
       "2019-01-01      1.960784\n",
       "2019-02-01      3.921569\n",
       "2019-03-01      5.882353\n",
       "2019-04-01      7.843137\n",
       "2019-05-01      9.803922\n",
       "2019-06-01     11.764706\n",
       "2019-07-01     13.725490\n",
       "2019-08-01     15.686275\n",
       "2019-09-01     17.647059\n",
       "2019-10-01     19.607843\n",
       "2019-11-01     21.568627\n",
       "2019-12-01     23.529412\n",
       "2020-01-01     25.490196\n",
       "2020-02-01     27.450980\n",
       "2020-03-01     29.411765\n",
       "2020-04-01     31.372549\n",
       "2020-05-01     33.333333\n",
       "2020-06-01     35.294118\n",
       "2020-07-01     37.254902\n",
       "2020-08-01     39.215686\n",
       "2020-09-01     41.176471\n",
       "2020-10-01     43.137255\n",
       "2020-11-01     45.098039\n",
       "2020-12-01     47.058824\n",
       "2021-01-01     49.019608\n",
       "2021-02-01     50.980392\n",
       "2021-03-01     52.941176\n",
       "2021-04-01     54.901961\n",
       "2021-05-01     56.862745\n",
       "2021-06-01     58.823529\n",
       "2021-07-01     60.784314\n",
       "2021-08-01     62.745098\n",
       "2021-09-01     64.705882\n",
       "2021-10-01     66.666667\n",
       "2021-11-01     68.627451\n",
       "2021-12-01     70.588235\n",
       "2022-01-01     72.549020\n",
       "2022-02-01     74.509804\n",
       "2022-03-01     76.470588\n",
       "2022-04-01     78.431373\n",
       "2022-05-01     80.392157\n",
       "2022-06-01     82.352941\n",
       "2022-07-01     84.313725\n",
       "2022-08-01     86.274510\n",
       "2022-09-01     88.235294\n",
       "2022-10-01     90.196078\n",
       "2022-11-01     92.156863\n",
       "2022-12-01     94.117647\n",
       "2023-01-01     96.078431\n",
       "2023-02-01     98.039216\n",
       "2023-03-01    100.000000\n",
       "Name: burglary, dtype: float64"
      ]
     },
     "execution_count": 108,
     "metadata": {},
     "output_type": "execute_result"
    }
   ],
   "source": [
    "group = df.groupby(\"año_mes_hecho\")[\"burglary\"].count()\n",
    "group.pipe(lambda x: x.cumsum()/x.sum()*100)"
   ]
  },
  {
   "cell_type": "code",
   "execution_count": 109,
   "id": "5dbebc4f-7d16-40fd-8b51-90379c3fdd97",
   "metadata": {},
   "outputs": [],
   "source": [
    "INPUT_LENGTH = 1 * 12 # records every 1 month x 12 months per year = 12 months"
   ]
  },
  {
   "cell_type": "code",
   "execution_count": 110,
   "id": "d1121147-a8d2-49fd-9d45-1fe30647ddb1",
   "metadata": {},
   "outputs": [],
   "source": [
    "TRAIN_TEST_RATIO = 0.70"
   ]
  },
  {
   "cell_type": "code",
   "execution_count": 111,
   "id": "15dc7f56-7a6b-45af-aef8-225444feaaef",
   "metadata": {},
   "outputs": [],
   "source": [
    "import pandas as pd\n",
    "from typing import Tuple\n",
    "\n",
    "def train_test_split(fold:pd.DataFrame,\n",
    "                     train_test_ratio: float,\n",
    "                     input_length: int) -> Tuple[pd.DataFrame]:\n",
    "    \"\"\"From a fold dataframe, take a train dataframe and test dataframe based on \n",
    "    the split ratio.\n",
    "    - df_train should contain all the timesteps until round(train_test_ratio * len(fold))\n",
    "    - df_test should contain all the timesteps needed to create all (X_test, y_test) tuples\n",
    "\n",
    "    Args:\n",
    "        fold (pd.DataFrame): A fold of timesteps\n",
    "        train_test_ratio (float): The ratio between train and test 0-1\n",
    "        input_length (int): How long each X_i will be\n",
    "\n",
    "    Returns:\n",
    "        Tuple[pd.DataFrame]: A tuple of two dataframes (fold_train, fold_test)\n",
    "    \"\"\"\n",
    "    fold_train = fold[0:round(len(fold)*train_test_ratio)]\n",
    "    fold_test = fold[(round(len(fold)*train_test_ratio - input_length)):]\n",
    "    return fold_train,fold_test"
   ]
  },
  {
   "cell_type": "code",
   "execution_count": 245,
   "id": "917f0b1f-c237-48f7-8349-b9b1c95fd735",
   "metadata": {},
   "outputs": [],
   "source": [
    "(fold_train, fold_test) = train_test_split(pre_data, TRAIN_TEST_RATIO, INPUT_LENGTH)"
   ]
  },
  {
   "cell_type": "code",
   "execution_count": null,
   "id": "f1b9ae88-7558-4116-bec1-8f766557abf9",
   "metadata": {},
   "outputs": [],
   "source": []
  },
  {
   "cell_type": "markdown",
   "id": "33638df7-d643-41a8-9a3e-cf96bdb9a7a6",
   "metadata": {},
   "source": [
    "## converting to X_train, y_train and X_test, y_test"
   ]
  },
  {
   "cell_type": "code",
   "execution_count": 246,
   "id": "07550b17-5111-4c4d-ac54-8123aac86fb7",
   "metadata": {},
   "outputs": [
    {
     "name": "stdout",
     "output_type": "stream",
     "text": [
      "Index(['alcaldia_colonia', 'año_mes_hecho', 'burglary', 'danger of well-being',\n",
      "       'domestic violence', 'fraud', 'homicide', 'property damage',\n",
      "       'robbery with violence', 'robbery without violence', 'sexual crime',\n",
      "       'threats'],\n",
      "      dtype='object')\n"
     ]
    }
   ],
   "source": [
    "print(df.columns)"
   ]
  },
  {
   "cell_type": "code",
   "execution_count": 247,
   "id": "f1452ef9-a0b9-4bcb-97f9-5a2b051bdb84",
   "metadata": {},
   "outputs": [],
   "source": [
    "def get_X_y_strides(fold: pd.DataFrame, input_length: int, output_length: int, \n",
    "    sequence_stride: int) -> Tuple[np.array]:\n",
    "    \"\"\"slides through a `fold` Time Series (2D array) to create sequences of equal\n",
    "        * `input_length` for X,\n",
    "        * `output_length` for y,\n",
    "    using a temporal gap `sequence_stride` between each sequence\n",
    "\n",
    "    Args:\n",
    "        fold (pd.DataFrame): One single fold dataframe\n",
    "        input_length (int): Length of each X_i\n",
    "        output_length (int): Length of each y_i\n",
    "        sequence_stride (int): How many timesteps to take before taking the next X_i\n",
    "\n",
    "    Returns:\n",
    "        Tuple[np.array]: A tuple of numpy arrays (X, y)\n",
    "    \"\"\"\n",
    "    X, y = [], []\n",
    "\n",
    "    for i in range(0, len(fold), sequence_stride):\n",
    "        # Exits the loop as soon as the last fold index would exceed the last index\n",
    "        if (i + input_length + output_length) >= len(fold):\n",
    "            break\n",
    "        X_i_transformed = fold.iloc[i:i + input_length, :]\n",
    "        y_i_transformed = fold.iloc[i + input_length:i + input_length + output_length, :][TARGET]\n",
    "\n",
    "\n",
    "        fold_train_list = X_i_transformed.stack(\"alcaldia_colonia\").groupby([\"alcaldia_colonia\", \"año_mes_hecho\"])\\\n",
    "                            .apply(lambda x: x.values.tolist()[0])\\\n",
    "                            .groupby(\"alcaldia_colonia\").apply(lambda x: x.values.tolist())\\\n",
    "                            .tolist()\n",
    "\n",
    "        fold_test_list = y_i_transformed.stack(\"alcaldia_colonia\").groupby([\"alcaldia_colonia\", \"año_mes_hecho\"])\\\n",
    "                            .apply(lambda x: x.values.tolist()[0])\\\n",
    "                            .groupby(\"alcaldia_colonia\").apply(lambda x: x.values.tolist())\\\n",
    "                            .tolist()\n",
    "\n",
    "    return (np.array(fold_train_list), np.array(fold_test_list))"
   ]
  },
  {
   "cell_type": "code",
   "execution_count": 273,
   "id": "1e75e03b-0a9f-496a-85ee-988a02d2e9c7",
   "metadata": {},
   "outputs": [],
   "source": [
    "SEQUENCE_STRIDE = 1\n",
    "OUTPUT_LENGTH = 2\n",
    "TARGET = ['burglary', 'danger of well-being',\n",
    "       'domestic violence', 'fraud', 'homicide', 'property damage',\n",
    "       'robbery with violence', 'robbery without violence', 'sexual crime',\n",
    "       'threats']"
   ]
  },
  {
   "cell_type": "code",
   "execution_count": 274,
   "id": "e9658552-5ae0-4ee5-8b27-a667eb0e4acd",
   "metadata": {},
   "outputs": [],
   "source": [
    "X_train, y_train = get_X_y_strides(fold_train, INPUT_LENGTH, OUTPUT_LENGTH, SEQUENCE_STRIDE)\n",
    "X_test, y_test = get_X_y_strides(fold_test, INPUT_LENGTH, OUTPUT_LENGTH, SEQUENCE_STRIDE)\n"
   ]
  },
  {
   "cell_type": "code",
   "execution_count": 275,
   "id": "0f08329e-0c0e-4a39-b66c-f3b21d18d982",
   "metadata": {},
   "outputs": [
    {
     "data": {
      "text/plain": [
       "(2041, 12, 10)"
      ]
     },
     "execution_count": 275,
     "metadata": {},
     "output_type": "execute_result"
    }
   ],
   "source": [
    "X_train.shape"
   ]
  },
  {
   "cell_type": "code",
   "execution_count": 276,
   "id": "63f49005-990a-475c-8d40-768bc92d7787",
   "metadata": {},
   "outputs": [
    {
     "data": {
      "text/plain": [
       "(2041, 2, 10)"
      ]
     },
     "execution_count": 276,
     "metadata": {},
     "output_type": "execute_result"
    }
   ],
   "source": [
    "y_train.shape"
   ]
  },
  {
   "cell_type": "markdown",
   "id": "634e2bbe-8cf0-461a-a126-0fa573a3fdbb",
   "metadata": {},
   "source": [
    "## Model"
   ]
  },
  {
   "cell_type": "code",
   "execution_count": 277,
   "id": "02aba3a8-5f6d-430b-988b-c74ea3a35a9d",
   "metadata": {},
   "outputs": [],
   "source": [
    "from tensorflow.keras import models\n",
    "from tensorflow.keras import layers\n",
    "from tensorflow.keras.models import Sequential\n",
    "from tensorflow.keras import optimizers, metrics\n",
    "from tensorflow.keras.regularizers import L1L2\n",
    "from tensorflow.keras.layers.experimental.preprocessing import Normalization\n",
    "\n",
    "def init_model(X_train, y_train):\n",
    "    model = Sequential()\n",
    "    #normalizer = Normalization() # Instantiate a \"normalizer\" layer\n",
    "    #normalizer.adapt(X_train) # \"Fit\" it on the train set\n",
    "    \n",
    "    # –– Model\n",
    "    #model.add(normalizer)\n",
    "    model.add(layers.Masking(mask_value=-1, input_shape=(12,10)))\n",
    "    model.add(layers.LSTM(units=40, activation='tanh', return_sequences =False))\n",
    "    model.add(layers.Dense(50, activation='relu'))\n",
    "    model.add(layers.Dropout(rate=0.2))  # The rate is the percentage of neurons that are \"killed\"\n",
    "    model.add(layers.Dense(2, activation='relu'))\n",
    "\n",
    "    # –– Compilation\n",
    "    model.compile(loss='mse', \n",
    "                  optimizer='adam',\n",
    "                 metrics = [\"mae\"]) \n",
    "\n",
    "    return model "
   ]
  },
  {
   "cell_type": "code",
   "execution_count": 278,
   "id": "0941f158-1635-436d-86e0-9f7a3851a9f5",
   "metadata": {
    "scrolled": true
   },
   "outputs": [
    {
     "name": "stdout",
     "output_type": "stream",
     "text": [
      "Model: \"sequential_37\"\n",
      "_________________________________________________________________\n",
      " Layer (type)                Output Shape              Param #   \n",
      "=================================================================\n",
      " masking_37 (Masking)        (None, 12, 10)            0         \n",
      "                                                                 \n",
      " lstm_36 (LSTM)              (None, 40)                8160      \n",
      "                                                                 \n",
      " dense_81 (Dense)            (None, 50)                2050      \n",
      "                                                                 \n",
      " dropout_37 (Dropout)        (None, 50)                0         \n",
      "                                                                 \n",
      " dense_82 (Dense)            (None, 2)                 102       \n",
      "                                                                 \n",
      "=================================================================\n",
      "Total params: 10312 (40.28 KB)\n",
      "Trainable params: 10312 (40.28 KB)\n",
      "Non-trainable params: 0 (0.00 Byte)\n",
      "_________________________________________________________________\n",
      "Epoch 1/200\n"
     ]
    },
    {
     "ename": "ValueError",
     "evalue": "in user code:\n\n    File \"/Users/angelescobedo1712/.pyenv/versions/Safety-map/lib/python3.10/site-packages/keras/src/engine/training.py\", line 1338, in train_function  *\n        return step_function(self, iterator)\n    File \"/Users/angelescobedo1712/.pyenv/versions/Safety-map/lib/python3.10/site-packages/keras/src/engine/training.py\", line 1322, in step_function  **\n        outputs = model.distribute_strategy.run(run_step, args=(data,))\n    File \"/Users/angelescobedo1712/.pyenv/versions/Safety-map/lib/python3.10/site-packages/keras/src/engine/training.py\", line 1303, in run_step  **\n        outputs = model.train_step(data)\n    File \"/Users/angelescobedo1712/.pyenv/versions/Safety-map/lib/python3.10/site-packages/keras/src/engine/training.py\", line 1081, in train_step\n        loss = self.compute_loss(x, y, y_pred, sample_weight)\n    File \"/Users/angelescobedo1712/.pyenv/versions/Safety-map/lib/python3.10/site-packages/keras/src/engine/training.py\", line 1139, in compute_loss\n        return self.compiled_loss(\n    File \"/Users/angelescobedo1712/.pyenv/versions/Safety-map/lib/python3.10/site-packages/keras/src/engine/compile_utils.py\", line 265, in __call__\n        loss_value = loss_obj(y_t, y_p, sample_weight=sw)\n    File \"/Users/angelescobedo1712/.pyenv/versions/Safety-map/lib/python3.10/site-packages/keras/src/losses.py\", line 142, in __call__\n        losses = call_fn(y_true, y_pred)\n    File \"/Users/angelescobedo1712/.pyenv/versions/Safety-map/lib/python3.10/site-packages/keras/src/losses.py\", line 268, in call  **\n        return ag_fn(y_true, y_pred, **self._fn_kwargs)\n    File \"/Users/angelescobedo1712/.pyenv/versions/Safety-map/lib/python3.10/site-packages/keras/src/losses.py\", line 1608, in mean_squared_error\n        return backend.mean(tf.math.squared_difference(y_pred, y_true), axis=-1)\n\n    ValueError: Dimensions must be equal, but are 32 and 2 for '{{node mean_squared_error/SquaredDifference}} = SquaredDifference[T=DT_FLOAT](sequential_37/dense_82/Relu, mean_squared_error/Cast)' with input shapes: [32,2], [32,2,10].\n",
     "output_type": "error",
     "traceback": [
      "\u001b[0;31m---------------------------------------------------------------------------\u001b[0m",
      "\u001b[0;31mValueError\u001b[0m                                Traceback (most recent call last)",
      "Cell \u001b[0;32mIn[278], line 7\u001b[0m\n\u001b[1;32m      5\u001b[0m model \u001b[38;5;241m=\u001b[39m init_model(X_train, y_train)\n\u001b[1;32m      6\u001b[0m model\u001b[38;5;241m.\u001b[39msummary()\n\u001b[0;32m----> 7\u001b[0m history \u001b[38;5;241m=\u001b[39m \u001b[43mmodel\u001b[49m\u001b[38;5;241;43m.\u001b[39;49m\u001b[43mfit\u001b[49m\u001b[43m(\u001b[49m\u001b[43mX_train\u001b[49m\u001b[43m,\u001b[49m\u001b[43m \u001b[49m\u001b[43my_train\u001b[49m\u001b[43m,\u001b[49m\u001b[43m \u001b[49m\n\u001b[1;32m      8\u001b[0m \u001b[43m          \u001b[49m\u001b[43mepochs\u001b[49m\u001b[38;5;241;43m=\u001b[39;49m\u001b[38;5;241;43m200\u001b[39;49m\u001b[43m,\u001b[49m\u001b[43m \u001b[49m\n\u001b[1;32m      9\u001b[0m \u001b[43m          \u001b[49m\u001b[43mbatch_size\u001b[49m\u001b[38;5;241;43m=\u001b[39;49m\u001b[38;5;241;43m32\u001b[39;49m\u001b[43m,\u001b[49m\u001b[43m \u001b[49m\n\u001b[1;32m     10\u001b[0m \u001b[43m          \u001b[49m\u001b[43mverbose\u001b[49m\u001b[38;5;241;43m=\u001b[39;49m\u001b[38;5;241;43m1\u001b[39;49m\u001b[43m,\u001b[49m\u001b[43m \u001b[49m\n\u001b[1;32m     11\u001b[0m \u001b[43m          \u001b[49m\u001b[43mcallbacks\u001b[49m\u001b[43m \u001b[49m\u001b[38;5;241;43m=\u001b[39;49m\u001b[43m \u001b[49m\u001b[43m[\u001b[49m\u001b[43mes\u001b[49m\u001b[43m]\u001b[49m\u001b[43m,\u001b[49m\n\u001b[1;32m     12\u001b[0m \u001b[43m          \u001b[49m\u001b[43mvalidation_split\u001b[49m\u001b[38;5;241;43m=\u001b[39;49m\u001b[38;5;241;43m0.2\u001b[39;49m\u001b[43m)\u001b[49m\n",
      "File \u001b[0;32m~/.pyenv/versions/Safety-map/lib/python3.10/site-packages/keras/src/utils/traceback_utils.py:70\u001b[0m, in \u001b[0;36mfilter_traceback.<locals>.error_handler\u001b[0;34m(*args, **kwargs)\u001b[0m\n\u001b[1;32m     67\u001b[0m     filtered_tb \u001b[38;5;241m=\u001b[39m _process_traceback_frames(e\u001b[38;5;241m.\u001b[39m__traceback__)\n\u001b[1;32m     68\u001b[0m     \u001b[38;5;66;03m# To get the full stack trace, call:\u001b[39;00m\n\u001b[1;32m     69\u001b[0m     \u001b[38;5;66;03m# `tf.debugging.disable_traceback_filtering()`\u001b[39;00m\n\u001b[0;32m---> 70\u001b[0m     \u001b[38;5;28;01mraise\u001b[39;00m e\u001b[38;5;241m.\u001b[39mwith_traceback(filtered_tb) \u001b[38;5;28;01mfrom\u001b[39;00m \u001b[38;5;28;01mNone\u001b[39;00m\n\u001b[1;32m     71\u001b[0m \u001b[38;5;28;01mfinally\u001b[39;00m:\n\u001b[1;32m     72\u001b[0m     \u001b[38;5;28;01mdel\u001b[39;00m filtered_tb\n",
      "File \u001b[0;32m/var/folders/br/sm9_sh9j6yg6yjv5jmrt0slr0000gn/T/__autograph_generated_file3e954sbu.py:15\u001b[0m, in \u001b[0;36mouter_factory.<locals>.inner_factory.<locals>.tf__train_function\u001b[0;34m(iterator)\u001b[0m\n\u001b[1;32m     13\u001b[0m \u001b[38;5;28;01mtry\u001b[39;00m:\n\u001b[1;32m     14\u001b[0m     do_return \u001b[38;5;241m=\u001b[39m \u001b[38;5;28;01mTrue\u001b[39;00m\n\u001b[0;32m---> 15\u001b[0m     retval_ \u001b[38;5;241m=\u001b[39m ag__\u001b[38;5;241m.\u001b[39mconverted_call(ag__\u001b[38;5;241m.\u001b[39mld(step_function), (ag__\u001b[38;5;241m.\u001b[39mld(\u001b[38;5;28mself\u001b[39m), ag__\u001b[38;5;241m.\u001b[39mld(iterator)), \u001b[38;5;28;01mNone\u001b[39;00m, fscope)\n\u001b[1;32m     16\u001b[0m \u001b[38;5;28;01mexcept\u001b[39;00m:\n\u001b[1;32m     17\u001b[0m     do_return \u001b[38;5;241m=\u001b[39m \u001b[38;5;28;01mFalse\u001b[39;00m\n",
      "\u001b[0;31mValueError\u001b[0m: in user code:\n\n    File \"/Users/angelescobedo1712/.pyenv/versions/Safety-map/lib/python3.10/site-packages/keras/src/engine/training.py\", line 1338, in train_function  *\n        return step_function(self, iterator)\n    File \"/Users/angelescobedo1712/.pyenv/versions/Safety-map/lib/python3.10/site-packages/keras/src/engine/training.py\", line 1322, in step_function  **\n        outputs = model.distribute_strategy.run(run_step, args=(data,))\n    File \"/Users/angelescobedo1712/.pyenv/versions/Safety-map/lib/python3.10/site-packages/keras/src/engine/training.py\", line 1303, in run_step  **\n        outputs = model.train_step(data)\n    File \"/Users/angelescobedo1712/.pyenv/versions/Safety-map/lib/python3.10/site-packages/keras/src/engine/training.py\", line 1081, in train_step\n        loss = self.compute_loss(x, y, y_pred, sample_weight)\n    File \"/Users/angelescobedo1712/.pyenv/versions/Safety-map/lib/python3.10/site-packages/keras/src/engine/training.py\", line 1139, in compute_loss\n        return self.compiled_loss(\n    File \"/Users/angelescobedo1712/.pyenv/versions/Safety-map/lib/python3.10/site-packages/keras/src/engine/compile_utils.py\", line 265, in __call__\n        loss_value = loss_obj(y_t, y_p, sample_weight=sw)\n    File \"/Users/angelescobedo1712/.pyenv/versions/Safety-map/lib/python3.10/site-packages/keras/src/losses.py\", line 142, in __call__\n        losses = call_fn(y_true, y_pred)\n    File \"/Users/angelescobedo1712/.pyenv/versions/Safety-map/lib/python3.10/site-packages/keras/src/losses.py\", line 268, in call  **\n        return ag_fn(y_true, y_pred, **self._fn_kwargs)\n    File \"/Users/angelescobedo1712/.pyenv/versions/Safety-map/lib/python3.10/site-packages/keras/src/losses.py\", line 1608, in mean_squared_error\n        return backend.mean(tf.math.squared_difference(y_pred, y_true), axis=-1)\n\n    ValueError: Dimensions must be equal, but are 32 and 2 for '{{node mean_squared_error/SquaredDifference}} = SquaredDifference[T=DT_FLOAT](sequential_37/dense_82/Relu, mean_squared_error/Cast)' with input shapes: [32,2], [32,2,10].\n"
     ]
    }
   ],
   "source": [
    "from tensorflow.keras.callbacks import EarlyStopping\n",
    "\n",
    "es = EarlyStopping(patience=10)\n",
    "\n",
    "model = init_model(X_train, y_train)\n",
    "model.summary()\n",
    "history = model.fit(X_train, y_train, \n",
    "          epochs=200, \n",
    "          batch_size=32, \n",
    "          verbose=1, \n",
    "          callbacks = [es],\n",
    "          validation_split=0.2)"
   ]
  },
  {
   "cell_type": "code",
   "execution_count": 263,
   "id": "b162b4d7-db77-4b73-9416-65b324ee25e0",
   "metadata": {},
   "outputs": [
    {
     "name": "stdout",
     "output_type": "stream",
     "text": [
      "64/64 [==============================] - 0s 919us/step - loss: 1.5974 - mae: 0.6425\n"
     ]
    },
    {
     "data": {
      "text/plain": [
       "[1.5973514318466187, 0.6425103545188904]"
      ]
     },
     "execution_count": 263,
     "metadata": {},
     "output_type": "execute_result"
    }
   ],
   "source": [
    "model.evaluate(X_test,y_test)"
   ]
  },
  {
   "cell_type": "code",
   "execution_count": 264,
   "id": "9bbe6bb2-ec1c-4f18-a9fe-745fa4d2339e",
   "metadata": {},
   "outputs": [],
   "source": [
    "def plot_history(history):\n",
    "    \n",
    "    fig, ax = plt.subplots(1,2, figsize=(20,7))\n",
    "    # --- LOSS: MSE --- \n",
    "    ax[0].plot(history.history['loss'])\n",
    "    ax[0].plot(history.history['val_loss'])\n",
    "    ax[0].set_title('MSE')\n",
    "    ax[0].set_ylabel('Loss')\n",
    "    ax[0].set_xlabel('Epoch')\n",
    "    ax[0].legend(['Train', 'Validation'], loc='best')\n",
    "    ax[0].grid(axis=\"x\",linewidth=0.5)\n",
    "    ax[0].grid(axis=\"y\",linewidth=0.5)\n",
    "    \n",
    "    # --- METRICS:MAE ---\n",
    "    \n",
    "    ax[1].plot(history.history['mae'])\n",
    "    ax[1].plot(history.history['val_mae'])\n",
    "    ax[1].set_title('MAE')\n",
    "    ax[1].set_ylabel('MAE')\n",
    "    ax[1].set_xlabel('Epoch')\n",
    "    ax[1].legend(['Train', 'Validation'], loc='best')\n",
    "    ax[1].grid(axis=\"x\",linewidth=0.5)\n",
    "    ax[1].grid(axis=\"y\",linewidth=0.5)\n",
    "                        \n",
    "    return ax"
   ]
  },
  {
   "cell_type": "code",
   "execution_count": 265,
   "id": "38686972-95f2-4224-bb0c-b45b4ebc63fd",
   "metadata": {},
   "outputs": [
    {
     "data": {
      "text/plain": [
       "array([<Axes: title={'center': 'MSE'}, xlabel='Epoch', ylabel='Loss'>,\n",
       "       <Axes: title={'center': 'MAE'}, xlabel='Epoch', ylabel='MAE'>],\n",
       "      dtype=object)"
      ]
     },
     "execution_count": 265,
     "metadata": {},
     "output_type": "execute_result"
    },
    {
     "data": {
      "image/png": "[encoded data removed]",
      "text/plain": [
       "<Figure size 2000x700 with 2 Axes>"
      ]
     },
     "metadata": {},
     "output_type": "display_data"
    }
   ],
   "source": [
    "plot_history(history)"
   ]
  },
  {
   "cell_type": "code",
   "execution_count": 268,
   "id": "22e020b7-1dd6-4b5b-8918-d300d44a822e",
   "metadata": {},
   "outputs": [
    {
     "name": "stdout",
     "output_type": "stream",
     "text": [
      "64/64 [==============================] - 0s 850us/step\n"
     ]
    }
   ],
   "source": [
    "predictions = model.predict(X_test)"
   ]
  },
  {
   "cell_type": "code",
   "execution_count": 272,
   "id": "6c846bc1-9c38-47a0-8c0a-21e6b45489ee",
   "metadata": {},
   "outputs": [
    {
     "data": {
      "text/plain": [
       "array([[0.05232186, 0.06879766, 0.24259174, 0.11218908, 0.02550339,\n",
       "        0.03546767, 0.07045834, 0.12478779, 0.03516114, 0.11261928],\n",
       "       [0.01981528, 0.03707592, 0.1621537 , 0.0718825 , 0.01736877,\n",
       "        0.01351795, 0.03038207, 0.07178308, 0.01498783, 0.06727052],\n",
       "       [0.00055577, 0.02907534, 0.1249859 , 0.07008255, 0.0126698 ,\n",
       "        0.00305294, 0.00981133, 0.05492708, 0.00311395, 0.05148414],\n",
       "       [0.        , 0.02158922, 0.09820199, 0.05915742, 0.00884324,\n",
       "        0.        , 0.        , 0.03533691, 0.        , 0.03821056],\n",
       "       [0.        , 0.01294221, 0.07512397, 0.04235145, 0.00522051,\n",
       "        0.        , 0.        , 0.012835  , 0.        , 0.02358326],\n",
       "       [0.        , 0.00259743, 0.05062038, 0.02153447, 0.00083833,\n",
       "        0.        , 0.        , 0.        , 0.        , 0.00655659],\n",
       "       [0.        , 0.        , 0.02401143, 0.        , 0.        ,\n",
       "        0.        , 0.        , 0.        , 0.        , 0.        ],\n",
       "       [0.        , 0.        , 0.        , 0.        , 0.        ,\n",
       "        0.        , 0.        , 0.        , 0.        , 0.        ],\n",
       "       [0.        , 0.        , 0.        , 0.        , 0.        ,\n",
       "        0.        , 0.        , 0.        , 0.        , 0.        ],\n",
       "       [0.        , 0.        , 0.        , 0.        , 0.        ,\n",
       "        0.        , 0.        , 0.        , 0.        , 0.        ],\n",
       "       [0.        , 0.        , 0.        , 0.        , 0.        ,\n",
       "        0.        , 0.        , 0.        , 0.        , 0.        ],\n",
       "       [0.        , 0.        , 0.        , 0.        , 0.        ,\n",
       "        0.        , 0.        , 0.        , 0.        , 0.        ]],\n",
       "      dtype=float32)"
      ]
     },
     "execution_count": 272,
     "metadata": {},
     "output_type": "execute_result"
    }
   ],
   "source": [
    "predictions[0]"
   ]
  },
  {
   "cell_type": "code",
   "execution_count": null,
   "id": "1fb03bda-de80-4d35-83c3-e26c5d43bbe1",
   "metadata": {},
   "outputs": [],
   "source": []
  }
 ],
 "metadata": {
  "kernelspec": {
   "display_name": "Python 3 (ipykernel)",
   "language": "python",
   "name": "python3"
  },
  "language_info": {
   "codemirror_mode": {
    "name": "ipython",
    "version": 3
   },
   "file_extension": ".py",
   "mimetype": "text/x-python",
   "name": "python",
   "nbconvert_exporter": "python",
   "pygments_lexer": "ipython3",
   "version": "3.10.6"
  }
 },
 "nbformat": 4,
 "nbformat_minor": 5
}
