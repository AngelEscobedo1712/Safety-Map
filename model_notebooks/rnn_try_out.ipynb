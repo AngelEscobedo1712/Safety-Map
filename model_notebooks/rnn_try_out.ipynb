{
 "cells": [
  {
   "cell_type": "code",
   "execution_count": 2,
   "id": "1ce9d967-4ab1-48fd-a803-b1296317cfe9",
   "metadata": {},
   "outputs": [],
   "source": [
    "import pandas as pd\n",
    "import numpy as np\n",
    "import matplotlib.pyplot as plt\n",
    "pd.set_option('display.max_columns', 500)\n",
    "\n",
    "import pmdarima as pm\n"
   ]
  },
  {
   "cell_type": "code",
   "execution_count": 4,
   "id": "19ac88ec-ea84-4db0-b2ee-ed0bced41166",
   "metadata": {},
   "outputs": [
    {
     "data": {
      "text/plain": [
       "0                        GUADALUPE INN\n",
       "1          VICTORIA DE LAS DEMOCRACIAS\n",
       "2                      COPILCO EL BAJO\n",
       "3                          PANTITLAN V\n",
       "4                 LAS AMERICAS (U HAB)\n",
       "                      ...             \n",
       "1038425                  DEL VALLE VII\n",
       "1038426    MIGUEL DE LA MADRID HURTADO\n",
       "1038427           LOMAS DE SANTA FE II\n",
       "1038428        SAN PEDRO MARTIR (PBLO)\n",
       "1038429            PATRIMONIO FAMILIAR\n",
       "Name: colonia_datos, Length: 1038430, dtype: object"
      ]
     },
     "execution_count": 4,
     "metadata": {},
     "output_type": "execute_result"
    }
   ],
   "source": [
    "#Defining the Dataset that we are going to use \n",
    "crime_data = pd.read_csv(\"da_victimas_completa_marzo_2023.csv\")\n",
    "crime_data = crime_data[\"colonia_datos\"]\n",
    "crime_data"
   ]
  },
  {
   "cell_type": "code",
   "execution_count": null,
   "id": "a8214c9b-33e0-4b1f-934d-067b9d3e901d",
   "metadata": {},
   "outputs": [],
   "source": []
  }
 ],
 "metadata": {
  "kernelspec": {
   "display_name": "Python 3 (ipykernel)",
   "language": "python",
   "name": "python3"
  },
  "language_info": {
   "codemirror_mode": {
    "name": "ipython",
    "version": 3
   },
   "file_extension": ".py",
   "mimetype": "text/x-python",
   "name": "python",
   "nbconvert_exporter": "python",
   "pygments_lexer": "ipython3",
   "version": "3.10.6"
  }
 },
 "nbformat": 4,
 "nbformat_minor": 5
}
